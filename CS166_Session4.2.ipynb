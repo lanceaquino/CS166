{
 "cells": [
  {
   "cell_type": "markdown",
   "metadata": {},
   "source": [
    "# CS166 Session 4.2 PCW #"
   ]
  },
  {
   "cell_type": "markdown",
   "metadata": {},
   "source": [
    "## Testing the Forest Fire Sim ##"
   ]
  },
  {
   "cell_type": "code",
   "execution_count": 170,
   "metadata": {},
   "outputs": [],
   "source": [
    "# Simple CA simulator in Python\n",
    "#\n",
    "# *** Forest fire ***\n",
    "#\n",
    "# Copyright 2008-2012 Hiroki Sayama\n",
    "# sayama@binghamton.edu\n",
    "\n",
    "# Modified to run with Python 3\n",
    "\n",
    "# import matplotlib\n",
    "# matplotlib.use('TkAgg')\n",
    "import numpy as np \n",
    "import pylab as PL\n",
    "import random as RD\n",
    "import scipy as SP\n",
    "import matplotlib.pyplot as plt\n",
    "\n",
    "RD.seed()\n",
    "\n",
    "width = 100\n",
    "height = 100\n",
    "initProb = 0.4\n",
    "empty, tree, fire, char = range(4)\n",
    "\n",
    "def init(initProb):\n",
    "    global time, config, nextConfig\n",
    "    global burns, curr_burn, trees\n",
    "\n",
    "\n",
    "    time = 0\n",
    "    \n",
    "    trees = 0\n",
    "    curr_burn = 0 \n",
    "    burns = []\n",
    "    \n",
    "    config = SP.zeros([height, width])\n",
    "    for x in range(width):\n",
    "        for y in range(height):\n",
    "            if RD.random() < initProb:\n",
    "                state = tree\n",
    "                trees += 1\n",
    "            else:\n",
    "                state = empty\n",
    "            config[y, x] = state\n",
    "    config[height//2, width//2] = fire\n",
    "\n",
    "    nextConfig = SP.zeros([height, width])\n",
    "\n",
    "def draw():\n",
    "    global time, config, nextConfig\n",
    "\n",
    "\n",
    "    PL.cla()\n",
    "#     PL.pcolor(config, vmin = 0, vmax = 3, cmap = PL.cm.binary)\n",
    "    PL.imshow(config, vmin = 0, vmax = 3, cmap = PL.cm.binary)\n",
    "\n",
    "#     PL.axis('image')\n",
    "#     PL.title('t = ' + str(time))\n",
    "    return burns\n",
    "\n",
    "def step():\n",
    "    global time, config, nextConfig\n",
    "    global burns, curr_burn\n",
    "\n",
    "    time += 1\n",
    "\n",
    "    for x in range(width):\n",
    "        for y in range(height):\n",
    "            state = config[y, x]\n",
    "            if state == fire:\n",
    "                state = char\n",
    "                curr_burn += 1\n",
    "            elif state == tree:\n",
    "                for dx in range(-1, 2):\n",
    "                    for dy in range(-1, 2):\n",
    "                        if config[(y+dy)%height, (x+dx)%width] == fire:\n",
    "                            state = fire\n",
    "                             \n",
    "            nextConfig[y, x] = state\n",
    "\n",
    "    config, nextConfig = nextConfig, config\n",
    "    burns.append(curr_burn/trees)\n",
    "\n",
    "# import pycxsimulator\n",
    "# pycxsimulator.GUI().start(func=[init,draw,step])"
   ]
  },
  {
   "cell_type": "markdown",
   "metadata": {},
   "source": [
    "## Analyzing the Burning Forest Simulation ## "
   ]
  },
  {
   "cell_type": "code",
   "execution_count": 171,
   "metadata": {},
   "outputs": [
    {
     "data": {
      "image/png": "[encoded data removed]",
      "text/plain": [
       "<Figure size 432x288 with 1 Axes>"
      ]
     },
     "metadata": {},
     "output_type": "display_data"
    }
   ],
   "source": [
    "RD.seed()\n",
    "\n",
    "width = 100\n",
    "height = 100\n",
    "empty, tree, fire, char = range(4)\n",
    "\n",
    "# Record burns \n",
    "trees = 0\n",
    "curr_burn = 0 \n",
    "burns = [] # Represents the desnity of trees burned \n",
    "\n",
    "init(1)\n",
    "for i in range(60):\n",
    "    step()\n",
    "    draw()\n"
   ]
  },
  {
   "cell_type": "code",
   "execution_count": null,
   "metadata": {},
   "outputs": [],
   "source": [
    "# Record burns \n",
    "trees = 0\n",
    "curr_burn = 0 \n",
    "burns = [] # Represents the desnity of trees burned \n",
    "\n",
    "steps = 100\n",
    "probs = [0.1, 0.3, 0.5, 0.37, 0.382, 0.39, 0.7, 0.9]\n",
    "\n",
    "\n",
    "burn_densities = []\n",
    "\n",
    "for p in probs:\n",
    "    init(p)\n",
    "    for i in range(steps):\n",
    "        step()\n",
    "        draw()\n",
    "    burn_densities.append(burns)\n",
    "    \n"
   ]
  },
  {
   "cell_type": "code",
   "execution_count": 173,
   "metadata": {},
   "outputs": [
    {
     "data": {
      "image/png": "[encoded data removed]",
      "text/plain": [
       "<Figure size 432x288 with 1 Axes>"
      ]
     },
     "metadata": {},
     "output_type": "display_data"
    }
   ],
   "source": [
    "for i in range(len(burn_densities)):\n",
    "    plt.plot(list(range(steps)), burn_densities[i], label = f'p = {probs[i]}')\n",
    "plt.legend()\n",
    "plt.xlabel(\"Steps\")\n",
    "plt.ylabel(\"Burn Density\")\n",
    "plt.title(\"Trend of the Percentage of Trees Burned Overtime\")\n",
    "\n",
    "plt.show()\n"
   ]
  },
  {
   "cell_type": "markdown",
   "metadata": {},
   "source": [
    "### Analysis ### \n",
    "\n",
    "In the figure above, p represents the perentage of trees in our area. For p values 0.1 and 0.3, it shows that there will be no spread of fire and will not burn the entire forest. However, for p's 0.3 and above, we can the entire forest will be burned. As we increase the p value, the time it takes for the forest to burn decreases and the rate at which the number of current trees burn increases. \n",
    "\n",
    "However, for p's 0.37 and 0.39, they are based on the critical point (p = 0.38) that the reading suggested and we can see here that 0.39 and 0.37 rests in the middle ground between the burned p's and the no burn p's. It is said that p's that are greater than 38 would lead to forests that will brun while the ones less than 0.38 will not burn. "
   ]
  },
  {
   "cell_type": "markdown",
   "metadata": {},
   "source": [
    "## Excercise 12.8 ## \n",
    "\n",
    "It is not safe to assume that the relationship between the different scaling of the blocks can be applied to larger scales because in Figure 12.6, it shows that we start to assume that the smaller blocks are a whole (with no gaps inside) which is the same as having a single block of trees. As we increase the scale of our block, we simplify and already make assumptions on the smaller scales that they can actually perform conductance which in fact gets more complicated since we are considering more spaces to be simplified. "
   ]
  },
  {
   "cell_type": "markdown",
   "metadata": {},
   "source": [
    "## Stretch Goal ## \n",
    "\n"
   ]
  },
  {
   "cell_type": "code",
   "execution_count": 163,
   "metadata": {},
   "outputs": [],
   "source": [
    "def step(prob_burn):\n",
    "    global time, config, nextConfig\n",
    "    global burns, curr_burn\n",
    "\n",
    "    time += 1\n",
    "\n",
    "    for x in range(width):\n",
    "        for y in range(height):\n",
    "            state = config[y, x]\n",
    "            if state == fire:\n",
    "                state = char\n",
    "                curr_burn += 1\n",
    "            elif state == tree:\n",
    "                for dx in range(-1, 2):\n",
    "                    for dy in range(-1, 2):\n",
    "                        if config[(y+dy)%height, (x+dx)%width] == fire:\n",
    "                            if RD.random() < prob_burn:\n",
    "                                state = fire\n",
    "                             \n",
    "            nextConfig[y, x] = state\n",
    "\n",
    "    config, nextConfig = nextConfig, config\n",
    "    burns.append(curr_burn/trees)"
   ]
  },
  {
   "cell_type": "code",
   "execution_count": null,
   "metadata": {},
   "outputs": [],
   "source": []
  }
 ],
 "metadata": {
  "kernelspec": {
   "display_name": "Python 3",
   "language": "python",
   "name": "python3"
  },
  "language_info": {
   "codemirror_mode": {
    "name": "ipython",
    "version": 3
   },
   "file_extension": ".py",
   "mimetype": "text/x-python",
   "name": "python",
   "nbconvert_exporter": "python",
   "pygments_lexer": "ipython3",
   "version": "3.6.8"
  }
 },
 "nbformat": 4,
 "nbformat_minor": 2
}
