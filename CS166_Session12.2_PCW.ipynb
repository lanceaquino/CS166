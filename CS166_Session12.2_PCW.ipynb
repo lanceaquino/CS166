{
 "cells": [
  {
   "cell_type": "markdown",
   "metadata": {},
   "source": [
    "# CS166 Session 12.2 PCW "
   ]
  },
  {
   "cell_type": "markdown",
   "metadata": {},
   "source": [
    "### Percolation Equation \n",
    "\n",
    "$$ q = e^{<k> (q-1)} $$\n",
    "\n",
    "where $ <k> $ is the average degree of the network "
   ]
  },
  {
   "cell_type": "code",
   "execution_count": 7,
   "metadata": {},
   "outputs": [],
   "source": [
    "import numpy as np\n",
    "import matplotlib.pyplot as plt \n"
   ]
  },
  {
   "cell_type": "code",
   "execution_count": 22,
   "metadata": {},
   "outputs": [
    {
     "name": "stdout",
     "output_type": "stream",
     "text": [
      "k_vals\n",
      "[ 1.          1.34482759  1.68965517  2.03448276  2.37931034  2.72413793\n",
      "  3.06896552  3.4137931   3.75862069  4.10344828  4.44827586  4.79310345\n",
      "  5.13793103  5.48275862  5.82758621  6.17241379  6.51724138  6.86206897\n",
      "  7.20689655  7.55172414  7.89655172  8.24137931  8.5862069   8.93103448\n",
      "  9.27586207  9.62068966  9.96551724 10.31034483 10.65517241 11.        ]\n",
      "LCC sizes:\n",
      "[0.999999992294093, 0.5352743225793926, 0.313505094985757, 0.19403334167381964, 0.12456430235367413, 0.0820292973611491, 0.055016524019930645, 0.037398599473860795, 0.025678393839906565, 0.01776451199820243, 0.012359930086399296, 0.008636951029832732, 0.006055312728765075, 0.004256006653940918, 0.002997068813802592, 0.0021135889601536155, 0.0014921809929688515, 0.0010543466785696333, 0.0007454487441784424, 0.0005272993634584624, 0.00037312191283756733, 0.00026409470033620595, 0.00018696266818744503, 0.00013237758664271724, 9.373934473497984e-05, 6.638423243067693e-05, 4.70147716662625e-05, 3.329839002637934e-05, 2.3584493500570426e-05, 1.6704770051011917e-05]\n"
     ]
    }
   ],
   "source": [
    "def calculate_q(k): \n",
    "    '''\n",
    "    Use a numerical root finder to determine q from the equation q = exp(k*(q-1)).\n",
    "    '''\n",
    "    from scipy.optimize import root\n",
    "    \n",
    "    return root(lambda q: q - np.exp(k * (q - 1)), 0).x[0]\n",
    "\n",
    "# k_vals = list(range(1,11))\n",
    "k_vals = np.linspace(1,11, 30)\n",
    "\n",
    "LCC_sizes = [calculate_q(i) for i in k_vals]\n",
    "print(\"k_vals\")\n",
    "print(k_vals)\n",
    "\n",
    "print(\"LCC sizes:\")\n",
    "print(LCC_sizes)"
   ]
  },
  {
   "cell_type": "code",
   "execution_count": 23,
   "metadata": {},
   "outputs": [
    {
     "data": {
      "image/png": "[encoded data removed]",
      "text/plain": [
       "<Figure size 432x288 with 1 Axes>"
      ]
     },
     "metadata": {
      "needs_background": "light"
     },
     "output_type": "display_data"
    }
   ],
   "source": [
    "plt.plot(k_vals, LCC_sizes)\n",
    "plt.xlabel(\"K values\")\n",
    "plt.ylabel(\"Size of LCC\")\n",
    "plt.show()"
   ]
  },
  {
   "cell_type": "code",
   "execution_count": null,
   "metadata": {},
   "outputs": [],
   "source": []
  }
 ],
 "metadata": {
  "kernelspec": {
   "display_name": "Python 3",
   "language": "python",
   "name": "python3"
  },
  "language_info": {
   "codemirror_mode": {
    "name": "ipython",
    "version": 3
   },
   "file_extension": ".py",
   "mimetype": "text/x-python",
   "name": "python",
   "nbconvert_exporter": "python",
   "pygments_lexer": "ipython3",
   "version": "3.8.5"
  }
 },
 "nbformat": 4,
 "nbformat_minor": 4
}
