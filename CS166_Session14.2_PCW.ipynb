{
 "cells": [
  {
   "cell_type": "markdown",
   "metadata": {},
   "source": [
    "# CS166 SESSION 14.1 PCW"
   ]
  },
  {
   "cell_type": "code",
   "execution_count": 1,
   "metadata": {},
   "outputs": [],
   "source": [
    "import pandas as pd \n",
    "import numpy as np \n",
    "import scipy.stats as sts \n",
    "import matplotlib.pyplot as plt "
   ]
  },
  {
   "cell_type": "markdown",
   "metadata": {},
   "source": [
    "## Task 1: Manual Monte Carlo Parameter Estimation \n",
    "\n",
    "$\\Omega_b = 0.075$\n",
    "\n",
    "$\\Omega_c = 0.325$\n",
    "\n",
    "$\\Omega_\\Lambda = 0.65$"
   ]
  },
  {
   "cell_type": "markdown",
   "metadata": {},
   "source": [
    "## Task 2: What is the Protactinium Half-Decay? "
   ]
  },
  {
   "cell_type": "code",
   "execution_count": 6,
   "metadata": {},
   "outputs": [
    {
     "data": {
      "text/html": [
       "<div>\n",
       "<style scoped>\n",
       "    .dataframe tbody tr th:only-of-type {\n",
       "        vertical-align: middle;\n",
       "    }\n",
       "\n",
       "    .dataframe tbody tr th {\n",
       "        vertical-align: top;\n",
       "    }\n",
       "\n",
       "    .dataframe thead th {\n",
       "        text-align: right;\n",
       "    }\n",
       "</style>\n",
       "<table border=\"1\" class=\"dataframe\">\n",
       "  <thead>\n",
       "    <tr style=\"text-align: right;\">\n",
       "      <th></th>\n",
       "      <th>time</th>\n",
       "      <th>count_rate</th>\n",
       "    </tr>\n",
       "  </thead>\n",
       "  <tbody>\n",
       "    <tr>\n",
       "      <th>0</th>\n",
       "      <td>0</td>\n",
       "      <td>32</td>\n",
       "    </tr>\n",
       "    <tr>\n",
       "      <th>1</th>\n",
       "      <td>5</td>\n",
       "      <td>28</td>\n",
       "    </tr>\n",
       "    <tr>\n",
       "      <th>2</th>\n",
       "      <td>10</td>\n",
       "      <td>29</td>\n",
       "    </tr>\n",
       "  </tbody>\n",
       "</table>\n",
       "</div>"
      ],
      "text/plain": [
       "   time  count_rate\n",
       "0     0          32\n",
       "1     5          28\n",
       "2    10          29"
      ]
     },
     "execution_count": 6,
     "metadata": {},
     "output_type": "execute_result"
    }
   ],
   "source": [
    "df = pd.read_csv(\"https://gist.githubusercontent.com/raquelhr/d1324510056353feeccf111d6b186a0d/raw/7b3bccc7917f3baa7ec1d919195d120083ee75e9/proctatinium_data.csv\")\n",
    "\n",
    "df.head(n = 3)\n"
   ]
  },
  {
   "cell_type": "code",
   "execution_count": 10,
   "metadata": {},
   "outputs": [
    {
     "data": {
      "image/png": "[encoded data removed]",
      "text/plain": [
       "<Figure size 432x288 with 1 Axes>"
      ]
     },
     "metadata": {
      "needs_background": "light"
     },
     "output_type": "display_data"
    }
   ],
   "source": [
    "t_values = np.array(df['time'], dtype = 'float')\n",
    "count_values = np.array(df['count_rate'], dtype = 'float')\n",
    "\n",
    "plt.plot(t_values, count_values)\n",
    "plt.xlabel(\"Time\")\n",
    "plt.ylabel(\"Count Rate\")\n",
    "plt.show()"
   ]
  },
  {
   "cell_type": "code",
   "execution_count": 33,
   "metadata": {},
   "outputs": [
    {
     "name": "stderr",
     "output_type": "stream",
     "text": [
      "<ipython-input-33-431159012b0f>:11: RuntimeWarning: overflow encountered in double_scalars\n",
      "  s += (N(dx[i], lambda_) - dy[i])**2\n",
      "<ipython-input-33-431159012b0f>:5: RuntimeWarning: overflow encountered in double_scalars\n",
      "  return (32 * np.exp(-lambda_ * t))\n",
      "<ipython-input-33-431159012b0f>:5: RuntimeWarning: overflow encountered in exp\n",
      "  return (32 * np.exp(-lambda_ * t))\n"
     ]
    }
   ],
   "source": [
    "# Model \n",
    "def N(t, lambda_):\n",
    "    # lambda: proposed \n",
    "    # t: data \n",
    "    return (32 * np.exp(-lambda_ * t))\n",
    "\n",
    "# Chi-Squared \n",
    "def chi2(dx, dy, lambda_):\n",
    "    s = 0 \n",
    "    for i in range(len(dx)):\n",
    "        s += (N(dx[i], lambda_) - dy[i])**2\n",
    "        \n",
    "    return s/len(dx)\n",
    "\n",
    "# Likelihood \n",
    "def p(dx, dy, lambda_):\n",
    "    return (-chi2(dx, dy, lambda_))\n",
    "\n",
    "# Initial guess for model parameters \n",
    "lambda_current = 1 \n",
    "p_current = p(t_values, count_values, lambda_current)\n",
    "\n",
    "chain = [] \n",
    "\n",
    "# Trial Phase \n",
    "for i in range(10000):\n",
    "    noise = sts.norm.rvs(loc = 0, scale = 1)\n",
    "    \n",
    "    lambda_proposed = lambda_current + noise \n",
    "    \n",
    "    p_proposed = p(t_values, count_values, lambda_proposed)\n",
    "    \n",
    "    ratio = np.exp(p_proposed - p_current)\n",
    "    r = np.random.rand() \n",
    "    \n",
    "    if r < ratio:\n",
    "        lambda_current = lambda_proposed \n",
    "        p_current = p_proposed \n",
    "        \n",
    "    if i > 100: # we use 100 as warm-up steps \n",
    "        chain.append(lambda_current)\n"
   ]
  },
  {
   "cell_type": "code",
   "execution_count": 42,
   "metadata": {},
   "outputs": [
    {
     "data": {
      "image/png": "[encoded data removed]",
      "text/plain": [
       "<Figure size 432x288 with 1 Axes>"
      ]
     },
     "metadata": {
      "needs_background": "light"
     },
     "output_type": "display_data"
    }
   ],
   "source": [
    "plt.plot(chain)\n",
    "plt.show()"
   ]
  },
  {
   "cell_type": "code",
   "execution_count": 47,
   "metadata": {},
   "outputs": [
    {
     "name": "stderr",
     "output_type": "stream",
     "text": [
      "<ipython-input-47-00f9b189820b>:13: RuntimeWarning: overflow encountered in exp\n",
      "  return 32 * np.exp(-lambd *t)\n"
     ]
    }
   ],
   "source": [
    "from scipy import optimize as opt \n",
    "\n",
    "best_fits = [] \n",
    "\n",
    "lambd_curr = 1 \n",
    "\n",
    "def N(t, lambda_):\n",
    "    # lambda: proposed \n",
    "    # t: data \n",
    "    return (32 * np.exp(-lambda_ * t))\n",
    "\n",
    "def func(lambd, t):\n",
    "    return 32 * np.exp(-lambd *t) \n",
    "\n",
    "for i in range(10000):\n",
    "    \n",
    "    curr_readings = N(t_values, lambd_curr) + sts.norm.rvs(loc = 0, scale = 1)\n",
    "    \n",
    "    best_lambd = opt.curve_fit(func, t_values, count_values, lambd_curr)\n",
    "    \n",
    "    best_fits.append(best_lambd)\n",
    "    "
   ]
  },
  {
   "cell_type": "code",
   "execution_count": 53,
   "metadata": {},
   "outputs": [
    {
     "data": {
      "text/plain": [
       "(array([0., 0., 0., 0., 1., 0., 0., 0., 0., 0.]),\n",
       " array([-0.491549, -0.391549, -0.291549, -0.191549, -0.091549,  0.008451,\n",
       "         0.108451,  0.208451,  0.308451,  0.408451,  0.508451]),\n",
       " <BarContainer object of 10 artists>)"
      ]
     },
     "execution_count": 53,
     "metadata": {},
     "output_type": "execute_result"
    },
    {
     "data": {
      "image/png": "[encoded data removed]",
      "text/plain": [
       "<Figure size 432x288 with 1 Axes>"
      ]
     },
     "metadata": {
      "needs_background": "light"
     },
     "output_type": "display_data"
    }
   ],
   "source": [
    "plt.hist(best_fits[0][0])"
   ]
  },
  {
   "cell_type": "code",
   "execution_count": 55,
   "metadata": {},
   "outputs": [
    {
     "data": {
      "text/plain": [
       "array([32.        , 30.67600944, 29.40679859, 28.19010098, 27.02374386,\n",
       "       25.90564443, 24.83380603, 23.80631463, 22.82133539, 21.87710937,\n",
       "       20.97195042, 20.10424215, 19.27243507, 18.47504375, 17.71064426,\n",
       "       16.97787158, 16.27541715, 15.60202657, 14.95649732, 14.33767665,\n",
       "       13.74445951, 13.17578655, 12.63064227, 12.10805317, 11.60708604,\n",
       "       11.12684628, 10.6664763 , 10.22515399,  9.80209126,  9.39653262,\n",
       "        9.00775386,  8.6350607 ,  8.27778761,  7.93529659,  7.60697603,\n",
       "        7.29223964,  6.99052538,  6.70129445,  6.42403037,  6.15823801,\n",
       "        5.90344273,  5.65918952,  5.42504223,  5.2005827 ,  4.98541013,\n",
       "        4.77914026,  4.58140474,  4.39185047,  4.21013895,  4.03594569,\n",
       "        3.86895963,  3.70888257,  3.55542864,  3.40832383,  3.26730544,\n",
       "        3.13212164,  3.00253103,  2.87830219,  2.75921329,  2.64505165,\n",
       "        2.53561342,  2.43070316,  2.33013354,  2.23372495,  2.14130524,\n",
       "        2.05270937,  1.96777912,  1.88636284,  1.80831514,  1.73349663,\n",
       "        1.66177372,  1.59301832,  1.52710766,  1.46392403,  1.4033546 ,\n",
       "        1.34529122,  1.28963019,  1.23627212,  1.18512173,  1.13608767,\n",
       "        1.08908238,  1.04402191,  1.00082581])"
      ]
     },
     "execution_count": 55,
     "metadata": {},
     "output_type": "execute_result"
    }
   ],
   "source": [
    "func(t_values, best_fits[0][0])"
   ]
  },
  {
   "cell_type": "code",
   "execution_count": null,
   "metadata": {},
   "outputs": [],
   "source": []
  }
 ],
 "metadata": {
  "kernelspec": {
   "display_name": "Python 3",
   "language": "python",
   "name": "python3"
  },
  "language_info": {
   "codemirror_mode": {
    "name": "ipython",
    "version": 3
   },
   "file_extension": ".py",
   "mimetype": "text/x-python",
   "name": "python",
   "nbconvert_exporter": "python",
   "pygments_lexer": "ipython3",
   "version": "3.8.5"
  }
 },
 "nbformat": 4,
 "nbformat_minor": 4
}
