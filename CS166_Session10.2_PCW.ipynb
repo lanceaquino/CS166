{
 "cells": [
  {
   "cell_type": "markdown",
   "metadata": {},
   "source": [
    "# CS166 Session 10.2 PCW \n"
   ]
  },
  {
   "cell_type": "markdown",
   "metadata": {},
   "source": [
    "## Task 1: Excercise 16.2"
   ]
  },
  {
   "cell_type": "code",
   "execution_count": 124,
   "metadata": {},
   "outputs": [],
   "source": [
    "import matplotlib as plt\n",
    "# matplotlib.use('TkAgg')\n",
    "from pylab import *\n",
    "import networkx as nx\n",
    "import random as rd\n",
    "import numpy as np\n"
   ]
  },
  {
   "cell_type": "code",
   "execution_count": 84,
   "metadata": {},
   "outputs": [],
   "source": [
    "def initialize():\n",
    "    global g\n",
    "    g = nx.karate_club_graph()\n",
    "    g.pos = nx.spring_layout(g)\n",
    "    for i in g.nodes:\n",
    "        g.nodes[i]['state'] = 1 if random() < .5 else 0\n",
    "\n",
    "def observe():\n",
    "    global g\n",
    "    cla()\n",
    "    nx.draw(g, vmin = 0, vmax = 1,\n",
    "            node_color = [g.nodes[i]['state'] for i in g.nodes],\n",
    "            pos = g.pos)\n",
    "\n",
    "def update():\n",
    "    global g\n",
    "    listener = rd.choice(list(g.nodes))\n",
    "    speaker = rd.choice(list(g.neighbors(listener)))\n",
    "    g.nodes[listener]['state'] = g.nodes[speaker]['state']\n",
    "    \n",
    "def majority_check():\n",
    "    global g \n",
    "    states = [] \n",
    "    for i in range(len(g.nodes())):\n",
    "        states.append(g.nodes[i]['state'])\n",
    "        \n",
    "    if sum(states) == len(g.nodes()):\n",
    "        return True \n",
    "    \n",
    "    elif sum(states) == 0:\n",
    "        return True \n",
    "    \n",
    "    else:\n",
    "        return False \n",
    "\n",
    "# import pycxsimulator\n",
    "# pycxsimulator.GUI().start(func=[initialize, observe, update])"
   ]
  },
  {
   "cell_type": "code",
   "execution_count": 125,
   "metadata": {},
   "outputs": [
    {
     "name": "stdout",
     "output_type": "stream",
     "text": [
      "Mean: 612.76\n"
     ]
    },
    {
     "data": {
      "image/png": "[encoded data removed]",
      "text/plain": [
       "<Figure size 432x288 with 1 Axes>"
      ]
     },
     "metadata": {
      "needs_background": "light"
     },
     "output_type": "display_data"
    }
   ],
   "source": [
    "def consensus_sim(n):\n",
    "    tot_count_consensus = []\n",
    "    \n",
    "    for i in range(n):\n",
    "        initialize() \n",
    "        \n",
    "        steps = 0\n",
    "        \n",
    "        while majority_check() == False:\n",
    "            update()\n",
    "            \n",
    "            steps += 1\n",
    "        \n",
    "        tot_count_consensus.append(steps)\n",
    "        \n",
    "    return tot_count_consensus\n",
    "        \n",
    "avg_steps_consensus = consensus_sim(100)\n",
    "\n",
    "plt.hist(avg_steps_consensus, density = True)\n",
    "plt.title(\"Default version\")\n",
    "print(\"Mean:\", np.mean(avg_steps_consensus))"
   ]
  },
  {
   "cell_type": "markdown",
   "metadata": {},
   "source": [
    "## Task 2: Excercise 16.3"
   ]
  },
  {
   "cell_type": "markdown",
   "metadata": {},
   "source": [
    "### Reversed version "
   ]
  },
  {
   "cell_type": "code",
   "execution_count": 108,
   "metadata": {},
   "outputs": [],
   "source": [
    "def update_reversed():\n",
    "    global g\n",
    "    speaker = rd.choice(list(g.nodes))\n",
    "    listener = rd.choice(list(g.neighbors(speaker)))\n",
    "    g.nodes[listener]['state'] = g.nodes[speaker]['state']"
   ]
  },
  {
   "cell_type": "code",
   "execution_count": 126,
   "metadata": {},
   "outputs": [
    {
     "name": "stdout",
     "output_type": "stream",
     "text": [
      "Mean: 3735.99\n"
     ]
    },
    {
     "data": {
      "image/png": "[encoded data removed]",
      "text/plain": [
       "<Figure size 432x288 with 1 Axes>"
      ]
     },
     "metadata": {
      "needs_background": "light"
     },
     "output_type": "display_data"
    }
   ],
   "source": [
    "def consensus_sim(n):\n",
    "    tot_count_consensus = []\n",
    "    \n",
    "    for i in range(n):\n",
    "        initialize() \n",
    "        \n",
    "        steps = 0\n",
    "        \n",
    "        while majority_check() == False:\n",
    "            update_reversed()\n",
    "            \n",
    "            steps += 1\n",
    "        \n",
    "        tot_count_consensus.append(steps)\n",
    "        \n",
    "    return tot_count_consensus\n",
    "        \n",
    "avg_steps_consensus_rev = consensus_sim(100)\n",
    "\n",
    "plt.hist(avg_steps_consensus_rev, density = True)\n",
    "plt.title(\"Reversed version\")\n",
    "print(\"Mean:\", np.mean(avg_steps_consensus_rev))  "
   ]
  },
  {
   "cell_type": "markdown",
   "metadata": {},
   "source": [
    "## Edge-based version"
   ]
  },
  {
   "cell_type": "code",
   "execution_count": 121,
   "metadata": {},
   "outputs": [],
   "source": [
    "def update_edge():\n",
    "    global g\n",
    "    \n",
    "    kuneksyon = rd.choice(list(g.edges))\n",
    "    \n",
    "    kuneksyon = list(kuneksyon)\n",
    "    \n",
    "    speaker = rd.choice(kuneksyon)\n",
    "    kuneksyon.remove(speaker)\n",
    "    listener = rd.choice(kuneksyon)\n",
    "\n",
    "    g.nodes[listener]['state'] = g.nodes[speaker]['state']"
   ]
  },
  {
   "cell_type": "code",
   "execution_count": 128,
   "metadata": {},
   "outputs": [
    {
     "name": "stdout",
     "output_type": "stream",
     "text": [
      "Mean: 929.35\n"
     ]
    },
    {
     "data": {
      "image/png": "[encoded data removed]",
      "text/plain": [
       "<Figure size 432x288 with 1 Axes>"
      ]
     },
     "metadata": {
      "needs_background": "light"
     },
     "output_type": "display_data"
    }
   ],
   "source": [
    "def consensus_sim(n):\n",
    "    tot_count_consensus = []\n",
    "    \n",
    "    for i in range(n):\n",
    "        initialize() \n",
    "        \n",
    "        steps = 0\n",
    "        \n",
    "        while majority_check() == False:\n",
    "            update_edge()\n",
    "            \n",
    "            steps += 1\n",
    "        \n",
    "        tot_count_consensus.append(steps)\n",
    "        \n",
    "    return tot_count_consensus\n",
    "        \n",
    "avg_steps_consensus_edge = consensus_sim(100)\n",
    "\n",
    "plt.hist(avg_steps_consensus_edge, density = True)\n",
    "plt.title(\"Reversed version\")\n",
    "print(\"Mean:\", np.mean(avg_steps_consensus_edge))     "
   ]
  },
  {
   "cell_type": "code",
   "execution_count": null,
   "metadata": {},
   "outputs": [],
   "source": []
  }
 ],
 "metadata": {
  "kernelspec": {
   "display_name": "Python 3",
   "language": "python",
   "name": "python3"
  },
  "language_info": {
   "codemirror_mode": {
    "name": "ipython",
    "version": 3
   },
   "file_extension": ".py",
   "mimetype": "text/x-python",
   "name": "python",
   "nbconvert_exporter": "python",
   "pygments_lexer": "ipython3",
   "version": "3.8.5"
  }
 },
 "nbformat": 4,
 "nbformat_minor": 4
}
