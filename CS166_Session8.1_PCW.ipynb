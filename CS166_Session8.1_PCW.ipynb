{
 "cells": [
  {
   "cell_type": "markdown",
   "metadata": {},
   "source": [
    "# CS166 Session 8.1 PCW"
   ]
  },
  {
   "cell_type": "code",
   "execution_count": 1,
   "metadata": {
    "collapsed": false,
    "jupyter": {
     "outputs_hidden": false
    }
   },
   "outputs": [],
   "source": [
    "import scipy\n",
    "from matplotlib import pyplot as plt\n",
    "\n",
    "class IsingSimulation:\n",
    "\n",
    "    J = 6.34369e-21  # Interaction constant for iron [Joule]\n",
    "    kB = 1.38065e-23  # Boltzmann constant [Joule / Kelvin]\n",
    "\n",
    "    def __init__(self, size, temperature=300):\n",
    "        '''\n",
    "        Create a new Ising model simulation. The state is initialized\n",
    "        randomly.\n",
    "\n",
    "        Arguments:\n",
    "\n",
    "            size (int) The number of cells along each dimension of the\n",
    "              square grid.\n",
    "\n",
    "            temperature (float) The temperature in Kelvin at which to\n",
    "              run the simulation. The Curie temperature for iron is\n",
    "              1043 K. Room temperature is about 300 K. Default: 300.\n",
    "        '''\n",
    "        self.size = size\n",
    "        self.temperature = temperature\n",
    "        self.state = scipy.random.choice(\n",
    "            [-1, +1], size=(self.size, self.size))\n",
    "        self.step = 0\n",
    "\n",
    "    def set_temperature(self, temp):\n",
    "        '''\n",
    "        Set the temperature of the model in Kelvin.\n",
    "        '''\n",
    "        self.temperature = float(temp)\n",
    "\n",
    "    def energy(self):\n",
    "        '''\n",
    "        Compute the energy of the current state of the model.\n",
    "        '''\n",
    "        return -self.J * (self.state * (\n",
    "            scipy.roll(self.state, 1, axis=0) +\n",
    "            scipy.roll(self.state, 1, axis=1))).sum()\n",
    "\n",
    "    def average_magnetism(self):\n",
    "        '''\n",
    "        Compute the average per-cell magnetism of the current state\n",
    "        of the model.\n",
    "        '''\n",
    "        return self.state.mean()\n",
    "\n",
    "    def update(self):\n",
    "        '''\n",
    "        Do a single cell update of the model state.\n",
    "        '''\n",
    "        # Pick a random cell to flip\n",
    "        i, j = scipy.random.randint(self.size, size=2)\n",
    "\n",
    "        # Change in energy from current state to next state\n",
    "        delta_E = 2 * self.J * self.state[i,j] * (\n",
    "            self.state[(i + 1) % self.size, j] +\n",
    "            self.state[(i - 1) % self.size, j] +\n",
    "            self.state[i, (j + 1) % self.size] +\n",
    "            self.state[i, (j - 1) % self.size])\n",
    "\n",
    "        # Log probability of changing state\n",
    "        log_p = -delta_E / (self.temperature * self.kB)\n",
    "        if scipy.log(scipy.random.uniform(0, 1)) < log_p:\n",
    "            self.state[i,j] = -self.state[i,j]\n",
    "\n",
    "        self.step += 1\n",
    "\n",
    "    def display(self):\n",
    "        '''\n",
    "        Plot the state of the model.\n",
    "        '''\n",
    "        plt.figure()\n",
    "        plt.imshow(self.state, vmin=-1, vmax=+1)\n",
    "        plt.title('Step: ' + str(self.step) + ', M = ' + str(self.average_magnetism()))"
   ]
  },
  {
   "cell_type": "code",
   "execution_count": 2,
   "metadata": {
    "collapsed": false,
    "jupyter": {
     "outputs_hidden": false
    }
   },
   "outputs": [
    {
     "name": "stderr",
     "output_type": "stream",
     "text": [
      "<ipython-input-1-9639745ed5e5>:66: DeprecationWarning: scipy.log is deprecated and will be removed in SciPy 2.0.0, use numpy.lib.scimath.log instead\n",
      "  if scipy.log(scipy.random.uniform(0, 1)) < log_p:\n"
     ]
    },
    {
     "data": {
      "image/png": "[encoded data removed]",
      "text/plain": [
       "<Figure size 432x288 with 1 Axes>"
      ]
     },
     "metadata": {
      "needs_background": "light"
     },
     "output_type": "display_data"
    }
   ],
   "source": [
    "size = 20\n",
    "sim = IsingSimulation(size, temperature=1043)  # Ising model at the Curie temperature\n",
    "for _ in range(1000):\n",
    "    sim.update()\n",
    "sim.display()"
   ]
  },
  {
   "cell_type": "markdown",
   "metadata": {
    "jupyter": {
     "outputs_hidden": false
    }
   },
   "source": [
    "## Task 1 "
   ]
  },
  {
   "cell_type": "code",
   "execution_count": 5,
   "metadata": {},
   "outputs": [
    {
     "name": "stderr",
     "output_type": "stream",
     "text": [
      "<ipython-input-1-9639745ed5e5>:66: DeprecationWarning: scipy.log is deprecated and will be removed in SciPy 2.0.0, use numpy.lib.scimath.log instead\n",
      "  if scipy.log(scipy.random.uniform(0, 1)) < log_p:\n"
     ]
    }
   ],
   "source": [
    "size = 20\n",
    "temp = 1\n",
    "\n",
    "avg_mags = []\n",
    "\n",
    "for i in range(100):\n",
    "    sim = IsingSimulation(size, temperature= temp)  # Ising model at the Curie temperature\n",
    "    for _ in range(100000):\n",
    "        sim.update()\n",
    "        \n",
    "    avg_mags.append(sim.average_magnetism())\n",
    "# sim.display()"
   ]
  },
  {
   "cell_type": "code",
   "execution_count": 32,
   "metadata": {},
   "outputs": [
    {
     "data": {
      "image/png": "[encoded data removed]",
      "text/plain": [
       "<Figure size 432x288 with 1 Axes>"
      ]
     },
     "metadata": {
      "needs_background": "light"
     },
     "output_type": "display_data"
    }
   ],
   "source": [
    "import scipy.stats as sts\n",
    "import numpy as np\n",
    "\n",
    "plt.hist(avg_mags, density = True)\n",
    "\n",
    "plt.title(f\"Distribution of Average Magnetism of the Ising Model at T = {temp}\")\n",
    "plt.xlabel(\"Average Magnetism\")\n",
    "plt.ylabel(\"Density\")\n",
    "plt.show()"
   ]
  },
  {
   "cell_type": "markdown",
   "metadata": {},
   "source": [
    "## Task 2 "
   ]
  },
  {
   "cell_type": "code",
   "execution_count": 35,
   "metadata": {},
   "outputs": [
    {
     "name": "stderr",
     "output_type": "stream",
     "text": [
      "<ipython-input-1-9639745ed5e5>:66: DeprecationWarning: scipy.log is deprecated and will be removed in SciPy 2.0.0, use numpy.lib.scimath.log instead\n",
      "  if scipy.log(scipy.random.uniform(0, 1)) < log_p:\n",
      "<ipython-input-1-9639745ed5e5>:65: RuntimeWarning: divide by zero encountered in double_scalars\n",
      "  log_p = -delta_E / (self.temperature * self.kB)\n"
     ]
    }
   ],
   "source": [
    "avg_mags_2 = []\n",
    "\n",
    "for i in range(100):\n",
    "    temp = 2000\n",
    "    sim = IsingSimulation(size, temperature = temp)\n",
    "    \n",
    "    for i in range(200000):\n",
    "        sim.update()\n",
    "        \n",
    "        if i%100 == 0:\n",
    "            temp -= 1 \n",
    "            sim.set_temperature(temp)\n",
    "        \n",
    "    avg_mags_2.append(sim.average_magnetism())"
   ]
  },
  {
   "cell_type": "code",
   "execution_count": 36,
   "metadata": {},
   "outputs": [
    {
     "data": {
      "image/png": "[encoded data removed]",
      "text/plain": [
       "<Figure size 432x288 with 1 Axes>"
      ]
     },
     "metadata": {
      "needs_background": "light"
     },
     "output_type": "display_data"
    }
   ],
   "source": [
    "plt.hist(avg_mags_2, density = True)\n",
    "plt.title(f\"Distribution of Average Magnetism of the Ising Model at decreasing temperatures: T - 1\")\n",
    "plt.xlabel(\"Average Magnetism\")\n",
    "plt.ylabel(\"Density\")\n",
    "plt.show()"
   ]
  },
  {
   "cell_type": "code",
   "execution_count": null,
   "metadata": {},
   "outputs": [],
   "source": []
  },
  {
   "cell_type": "code",
   "execution_count": null,
   "metadata": {},
   "outputs": [],
   "source": []
  }
 ],
 "metadata": {
  "kernelspec": {
   "display_name": "Python 3",
   "language": "python",
   "name": "python3"
  },
  "language_info": {
   "codemirror_mode": {
    "name": "ipython",
    "version": 3
   },
   "file_extension": ".py",
   "mimetype": "text/x-python",
   "name": "python",
   "nbconvert_exporter": "python",
   "pygments_lexer": "ipython3",
   "version": "3.8.5"
  }
 },
 "nbformat": 4,
 "nbformat_minor": 4
}
