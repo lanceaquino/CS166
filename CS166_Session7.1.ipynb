{
 "cells": [
  {
   "cell_type": "markdown",
   "metadata": {},
   "source": [
    "# CS166 Session 7.1 PCW \n",
    "\n",
    "## The Ising Model "
   ]
  },
  {
   "cell_type": "code",
   "execution_count": 1,
   "metadata": {},
   "outputs": [],
   "source": [
    "import numpy as np \n",
    "import pylab as PL\n",
    "import random as RD\n",
    "import scipy as SP\n",
    "import matplotlib.pyplot as plt"
   ]
  },
  {
   "cell_type": "code",
   "execution_count": 99,
   "metadata": {},
   "outputs": [],
   "source": [
    "class Ising():\n",
    "\n",
    "    def __init__(self, dim, temp):\n",
    "        self.height = dim\n",
    "        self.width = dim \n",
    "        \n",
    "        self.temp = temp \n",
    "        \n",
    "        self.time = 0\n",
    "\n",
    "        self.config = np.zeros([self.height, self.width])\n",
    "        for x in range(self.width):\n",
    "            for y in range(self.height):\n",
    "                if RD.random() <= 0.5: # each cell has equal chance of getting +1 or -1 \n",
    "                    state = 1\n",
    "                else:\n",
    "                    state = -1\n",
    "                self.config[y, x] = state\n",
    "\n",
    "        self.nextConfig = np.zeros([self.height, self.width])\n",
    "\n",
    "    def draw(self):\n",
    "\n",
    "        PL.cla()\n",
    "        PL.title(f\"T = {self.temp}\")\n",
    "        PL.imshow(self.config, cmap = 'binary')\n",
    "        \n",
    "    def switch_prob(self, energy):\n",
    "\n",
    "        return np.e**((2*energy)/self.temp)\n",
    "\n",
    "    def step(self):\n",
    "\n",
    "        self.time += 1\n",
    "\n",
    "        for x in range(self.width):\n",
    "            for y in range(self.height):\n",
    "                state = self.config[y, x]\n",
    "                energy = 0 \n",
    "\n",
    "                # Von neumann neighborhood \n",
    "                energy += self.config[y, (x - 1)%self.width] * self.config[y,x] # Left \n",
    "                energy += self.config[(y + 1)%self.height, x] * self.config[y,x] # Up\n",
    "                energy += self.config[(y - 1)%self.height, x] * self.config[y,x] # Down \n",
    "                energy += self.config[y, (x + 1)%self.width] * self.config[y,x] # Right \n",
    "\n",
    "                if RD.random() <= min(1,self.switch_prob(-energy)): # We change the state \n",
    "                    state *=  -1 \n",
    "\n",
    "                self.nextConfig[y, x] = state\n",
    "\n",
    "        self.config, self.nextConfig = self.nextConfig, self.config\n"
   ]
  },
  {
   "cell_type": "code",
   "execution_count": 100,
   "metadata": {},
   "outputs": [
    {
     "data": {
      "image/png": "[encoded data removed]",
      "text/plain": [
       "<Figure size 432x288 with 1 Axes>"
      ]
     },
     "metadata": {
      "needs_background": "light"
     },
     "output_type": "display_data"
    }
   ],
   "source": [
    "mags = Ising(10, 1)\n",
    "mags.draw()\n",
    "mags.step()"
   ]
  },
  {
   "cell_type": "code",
   "execution_count": 101,
   "metadata": {},
   "outputs": [
    {
     "data": {
      "image/png": "[encoded data removed]",
      "text/plain": [
       "<Figure size 432x288 with 1 Axes>"
      ]
     },
     "metadata": {
      "needs_background": "light"
     },
     "output_type": "display_data"
    }
   ],
   "source": [
    "for i in range(100):\n",
    "    mags.step()\n",
    "    \n",
    "mags.draw()"
   ]
  },
  {
   "cell_type": "code",
   "execution_count": null,
   "metadata": {},
   "outputs": [],
   "source": []
  },
  {
   "cell_type": "code",
   "execution_count": null,
   "metadata": {},
   "outputs": [],
   "source": []
  }
 ],
 "metadata": {
  "kernelspec": {
   "display_name": "Python 3",
   "language": "python",
   "name": "python3"
  },
  "language_info": {
   "codemirror_mode": {
    "name": "ipython",
    "version": 3
   },
   "file_extension": ".py",
   "mimetype": "text/x-python",
   "name": "python",
   "nbconvert_exporter": "python",
   "pygments_lexer": "ipython3",
   "version": "3.8.5"
  }
 },
 "nbformat": 4,
 "nbformat_minor": 4
}
