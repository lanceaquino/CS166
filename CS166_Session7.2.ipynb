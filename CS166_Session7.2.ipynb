{
 "cells": [
  {
   "cell_type": "markdown",
   "metadata": {},
   "source": [
    "# CS166 Session 7.2 PCW \n",
    "\n",
    "## Markov Chain Monte Carlo Simulations "
   ]
  },
  {
   "cell_type": "code",
   "execution_count": 1,
   "metadata": {},
   "outputs": [],
   "source": [
    "import random as rand \n",
    "import numpy as np \n",
    "import matplotlib.pyplot as plt \n",
    "import scipy.stats as sts "
   ]
  },
  {
   "cell_type": "code",
   "execution_count": 106,
   "metadata": {},
   "outputs": [],
   "source": [
    "# Target distribution \n",
    "\n",
    "def f(x):\n",
    "    Z = 24.44321494051954\n",
    "    if abs(x) > 7:\n",
    "        return 0\n",
    "    \n",
    "    elif abs(x) > 3:\n",
    "        return 3 * (1 - (x / 7) ** 2) ** 0.5 / Z\n",
    "    \n",
    "    elif abs(x) > 1:\n",
    "        return ((3 - abs(x)) / 2 - (3/7) * 10**0.5 * ((3 - x**2 + 2*abs(x))**0.5 - 2)) / Z\n",
    "    \n",
    "    elif abs(x) > 0.75:\n",
    "        return (9 - 8 * abs(x)) / Z\n",
    "    \n",
    "    elif abs(x) > 0.5:\n",
    "        return (3 * abs(x) + 0.75) / Z\n",
    "    \n",
    "    else:\n",
    "        return 2.25 / Z\n",
    "    \n",
    "# Proposal Distribution \n",
    "def g(y):\n",
    "    \n",
    "    return sts.norm.rvs(loc = y, scale = 2)\n"
   ]
  },
  {
   "cell_type": "code",
   "execution_count": 107,
   "metadata": {},
   "outputs": [],
   "source": [
    "def MCMC_sim(n):\n",
    "    \n",
    "    x = rand.random()\n",
    "    step = 0 \n",
    "    samples = []    \n",
    "    \n",
    "    for i in range(n):\n",
    "        target_density = f(x)\n",
    "        proposed_state = g(x)\n",
    "        proposed_density = f(proposed_state)\n",
    "        \n",
    "        if step%100 == 0:\n",
    "            samples.append(x)\n",
    "            \n",
    "        if target_density == 0: \n",
    "            x = proposed_state \n",
    "            \n",
    "        else:\n",
    "            if rand.random() <= min(1, proposed_density/target_density):\n",
    "                x = proposed_state\n",
    "\n",
    "            else: \n",
    "                x = x  \n",
    "            \n",
    "        step += 1\n",
    "        \n",
    "\n",
    "        \n",
    "            \n",
    "    return samples "
   ]
  },
  {
   "cell_type": "code",
   "execution_count": 108,
   "metadata": {},
   "outputs": [
    {
     "data": {
      "image/png": "[encoded data removed]",
      "text/plain": [
       "<Figure size 864x432 with 1 Axes>"
      ]
     },
     "metadata": {
      "needs_background": "light"
     },
     "output_type": "display_data"
    },
    {
     "name": "stdout",
     "output_type": "stream",
     "text": [
      "Total number of steps: 1000\n"
     ]
    }
   ],
   "source": [
    "plt.figure(figsize = (12,6))\n",
    "\n",
    "sims = MCMC_sim(100000)\n",
    "\n",
    "plt.hist(sims, density = True, bins = 50)\n",
    "plt.title(\"Distribution of the states after 100,000 runs\")\n",
    "plt.xlabel(\"States\")\n",
    "plt.ylabel(\"Density\")\n",
    "plt.show()\n",
    "\n",
    "print(\"Total number of steps:\", len(sims))"
   ]
  },
  {
   "cell_type": "code",
   "execution_count": null,
   "metadata": {},
   "outputs": [],
   "source": []
  },
  {
   "cell_type": "code",
   "execution_count": null,
   "metadata": {},
   "outputs": [],
   "source": []
  },
  {
   "cell_type": "code",
   "execution_count": null,
   "metadata": {},
   "outputs": [],
   "source": []
  }
 ],
 "metadata": {
  "kernelspec": {
   "display_name": "Python 3",
   "language": "python",
   "name": "python3"
  },
  "language_info": {
   "codemirror_mode": {
    "name": "ipython",
    "version": 3
   },
   "file_extension": ".py",
   "mimetype": "text/x-python",
   "name": "python",
   "nbconvert_exporter": "python",
   "pygments_lexer": "ipython3",
   "version": "3.8.5"
  }
 },
 "nbformat": 4,
 "nbformat_minor": 4
}
