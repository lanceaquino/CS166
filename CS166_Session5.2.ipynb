{
 "cells": [
  {
   "cell_type": "code",
   "execution_count": 29,
   "metadata": {},
   "outputs": [
    {
     "name": "stdout",
     "output_type": "stream",
     "text": [
      "End destination: -6\n"
     ]
    },
    {
     "data": {
      "image/png": "[encoded data removed]",
      "text/plain": [
       "<Figure size 432x288 with 1 Axes>"
      ]
     },
     "metadata": {
      "needs_background": "light"
     },
     "output_type": "display_data"
    }
   ],
   "source": [
    "### Sample Paths Simulations ### \n",
    "\n",
    "import random as rand \n",
    "import numpy as np\n",
    "import matplotlib.pyplot as plt \n",
    "\n",
    "## Exercise 8: Random walk with drift \n",
    "\n",
    "def sample_path(steps):\n",
    "    paths = []\n",
    "    \n",
    "    curr_pos = 0 \n",
    "    \n",
    "    for i in range(steps):\n",
    "        if rand.random() <= 0.6: \n",
    "            # If we flip heads, we take step right \n",
    "            # and here it is defined as -1 in the y-axis\n",
    "            curr_pos -= 1 \n",
    "            \n",
    "            paths.append(curr_pos)\n",
    "        else:\n",
    "            curr_pos += 1 \n",
    "            paths.append(curr_pos)\n",
    "            \n",
    "    return np.array(paths)\n",
    "\n",
    "# sample end destination \n",
    "path = sample_path(30)\n",
    "\n",
    "print(\"End destination:\", path[-1])\n",
    "\n",
    "plt.plot(list(range(30)), path)\n",
    "plt.show()\n"
   ]
  },
  {
   "cell_type": "code",
   "execution_count": 45,
   "metadata": {},
   "outputs": [
    {
     "data": {
      "image/png": "[encoded data removed]",
      "text/plain": [
       "<Figure size 432x288 with 1 Axes>"
      ]
     },
     "metadata": {
      "needs_background": "light"
     },
     "output_type": "display_data"
    },
    {
     "name": "stdout",
     "output_type": "stream",
     "text": [
      "Sample Mean: -6.1\n",
      "Sample Variance: 29.75\n"
     ]
    }
   ],
   "source": [
    "final_pos = []\n",
    "\n",
    "for i in range(200):\n",
    "    final_pos.append(sample_path(30)[-1])\n",
    "\n",
    "sample_mean = np.mean(final_pos)\n",
    "sample_var = np.var(final_pos) \n",
    "    \n",
    "plt.hist(final_pos, density = True, edgecolor = 'white')\n",
    "plt.axvline(sample_mean, color = 'red', ls = '--')\n",
    "plt.show()\n",
    "\n",
    "print(\"Sample Mean:\", sample_mean)\n",
    "print(\"Sample Variance:\", sample_var)"
   ]
  },
  {
   "cell_type": "code",
   "execution_count": 64,
   "metadata": {},
   "outputs": [
    {
     "data": {
      "text/plain": [
       "0"
      ]
     },
     "execution_count": 64,
     "metadata": {},
     "output_type": "execute_result"
    }
   ],
   "source": [
    "## Excercise 9 Gambler's Ruin \n",
    "\n",
    "def casino_game(rounds):\n",
    "    gambler = 100\n",
    "    casino = 2000 \n",
    "    \n",
    "    for i in range(rounds):\n",
    "        if rand.random() <= 0.5: \n",
    "            gambler += 1 \n",
    "            casino -= 1\n",
    "        else:\n",
    "            gambler -= 1 \n",
    "            casino += 1 \n",
    "            \n",
    "    if gambler > casino:\n",
    "        return 1 \n",
    "    else:\n",
    "        return 0 \n",
    "    \n",
    "casino_game(100)"
   ]
  },
  {
   "cell_type": "code",
   "execution_count": 109,
   "metadata": {},
   "outputs": [
    {
     "name": "stdout",
     "output_type": "stream",
     "text": [
      "[0, 0, 0, 0, 13]\n"
     ]
    }
   ],
   "source": [
    "rounds = [100, 1000, 10000, 100000, 1000000]\n",
    "wins = [] \n",
    "\n",
    "for round in rounds:\n",
    "    gambler_wins = []\n",
    "    for i in range(100):\n",
    "        gambler_wins.append(casino_game(round))\n",
    "    wins.append(np.sum(gambler_wins))\n",
    "                            \n",
    "print(wins)"
   ]
  },
  {
   "cell_type": "code",
   "execution_count": null,
   "metadata": {},
   "outputs": [],
   "source": []
  },
  {
   "cell_type": "code",
   "execution_count": null,
   "metadata": {},
   "outputs": [],
   "source": []
  }
 ],
 "metadata": {
  "kernelspec": {
   "display_name": "Python 3",
   "language": "python",
   "name": "python3"
  },
  "language_info": {
   "codemirror_mode": {
    "name": "ipython",
    "version": 3
   },
   "file_extension": ".py",
   "mimetype": "text/x-python",
   "name": "python",
   "nbconvert_exporter": "python",
   "pygments_lexer": "ipython3",
   "version": "3.8.5"
  }
 },
 "nbformat": 4,
 "nbformat_minor": 4
}
