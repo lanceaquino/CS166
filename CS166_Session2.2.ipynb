{
 "cells": [
  {
   "cell_type": "markdown",
   "metadata": {},
   "source": [
    "# Session 2.2 Pre-Class Work #"
   ]
  },
  {
   "cell_type": "markdown",
   "metadata": {},
   "source": [
    "## Set-up libraries ##"
   ]
  },
  {
   "cell_type": "code",
   "execution_count": 25,
   "metadata": {},
   "outputs": [],
   "source": [
    "import heapq\n",
    "import random as rand\n",
    "import scipy.stats as sts\n",
    "import numpy as np \n",
    "import matplotlib.pyplot as plt "
   ]
  },
  {
   "cell_type": "markdown",
   "metadata": {},
   "source": [
    "## Simulation Code ##"
   ]
  },
  {
   "cell_type": "code",
   "execution_count": 9,
   "metadata": {},
   "outputs": [],
   "source": [
    "class Event:\n",
    "    '''\n",
    "    Store the properties of one event in the Schedule class defined below. Each\n",
    "    event has a time at which it needs to run, a function to call when running\n",
    "    the event, along with the arguments and keyword arguments to pass to that\n",
    "    function.\n",
    "    '''\n",
    "    def __init__(self, timestamp, function, *args, **kwargs):\n",
    "        self.timestamp = timestamp\n",
    "        self.function = function\n",
    "        self.args = args\n",
    "        self.kwargs = kwargs\n",
    "\n",
    "    def __lt__(self, other):\n",
    "        '''\n",
    "        This overloads the less-than operator in Python. We need it so the\n",
    "        priority queue knows how to compare two events. We want events with\n",
    "        earlier (smaller) times to go first.\n",
    "        '''\n",
    "        return self.timestamp < other.timestamp\n",
    "\n",
    "    def run(self, schedule):\n",
    "        '''\n",
    "        Run an event by calling the function with its arguments and keyword\n",
    "        arguments. The first argument to any event function is always the\n",
    "        schedule in which events are being tracked. The schedule object can be\n",
    "        used to add new events to the priority queue.\n",
    "        '''\n",
    "        self.function(schedule, *self.args, **self.kwargs)\n",
    "\n",
    "\n",
    "class Schedule:\n",
    "    '''\n",
    "    Implement an event schedule using a priority queue. You can add events and\n",
    "    run the next event.\n",
    "    \n",
    "    The `now` attribute contains the time at which the last event was run.\n",
    "    '''\n",
    "    \n",
    "    def __init__(self):\n",
    "        self.now = 0  # Keep track of the current simulation time\n",
    "        self.priority_queue = []  # The priority queue of events to run\n",
    "    \n",
    "    def add_event_at(self, timestamp, function, *args, **kwargs):\n",
    "        # Add an event to the schedule at a particular point in time.\n",
    "        heapq.heappush(\n",
    "            self.priority_queue,\n",
    "            Event(timestamp, function, *args, **kwargs))\n",
    "    \n",
    "    def add_event_after(self, interval, function, *args, **kwargs):\n",
    "        # Add an event to the schedule after a specified time interval.\n",
    "        self.add_event_at(self.now + interval, function, *args, **kwargs)\n",
    "    \n",
    "    def next_event_time(self):\n",
    "        return self.priority_queue[0].timestamp\n",
    "\n",
    "    def run_next_event(self):\n",
    "        # Get the next event from the priority queue and run it.\n",
    "        event = heapq.heappop(self.priority_queue)\n",
    "        self.now = event.timestamp\n",
    "        event.run(self)\n",
    "        \n",
    "    def __repr__(self):\n",
    "        return (\n",
    "            f'Schedule() at time {self.now} ' +\n",
    "            f'with {len(self.priority_queue)} events in the queue')\n",
    "    \n",
    "    def print_events(self):\n",
    "        print(repr(self))\n",
    "        for event in sorted(self.priority_queue):\n",
    "            print(f'   {event.timestamp}: {event.function.__name__}')"
   ]
  },
  {
   "cell_type": "code",
   "execution_count": 10,
   "metadata": {},
   "outputs": [],
   "source": [
    "# M/D/1 queue\n",
    "class Queue:\n",
    "    def __init__(self, service_rate):\n",
    "        # Store the deterministic service time for an M/D/1 queue\n",
    "        self.service_time = 1 / service_rate\n",
    "        # We start with an empty queue and the server not busy\n",
    "        self.people_in_queue = 0\n",
    "        self.people_being_served = 0\n",
    "\n",
    "    def add_customer(self, schedule):\n",
    "        # Add the customer to the queue\n",
    "        self.people_in_queue += 1\n",
    "        if self.people_being_served < 1:\n",
    "            # This customer can be served immediately\n",
    "            schedule.add_event_after(0, self.start_serving_customer)\n",
    "            \n",
    "    def start_serving_customer(self, schedule):\n",
    "        # Move the customer from the queue to a server\n",
    "        self.people_in_queue -= 1\n",
    "        self.people_being_served += 1\n",
    "        # Schedule when the server will be done with the customer\n",
    "        schedule.add_event_after(\n",
    "            self.service_time,\n",
    "            self.finish_serving_customer)\n",
    "            \n",
    "    def finish_serving_customer(self, schedule):\n",
    "        # Remove the customer from the server\n",
    "        self.people_being_served -= 1\n",
    "        if self.people_in_queue > 0:\n",
    "            # There are more people in the queue so serve the next customer\n",
    "            schedule.add_event_after(0, self.start_serving_customer)\n",
    "\n",
    "\n",
    "class GroceryStore:\n",
    "    \n",
    "    def __init__(self, arrival_rate, service_rate):\n",
    "        self.queue = Queue(service_rate)\n",
    "        self.arrival_distribution = sts.expon(scale=1/arrival_rate)\n",
    "\n",
    "    def add_customer(self, schedule):\n",
    "        # Add this customer to the queue\n",
    "        self.queue.add_customer(schedule)\n",
    "        # Schedule when to add another customer\n",
    "        schedule.add_event_after(\n",
    "            self.arrival_distribution.rvs(),\n",
    "            self.add_customer)\n",
    "\n",
    "    def run(self, schedule):\n",
    "        # Schedule when the first customer arrives\n",
    "        schedule.add_event_after(\n",
    "            self.arrival_distribution.rvs(),\n",
    "            self.add_customer)\n",
    "        \n",
    "\n",
    "def run_simulation(arrival_rate, service_rate, run_until):\n",
    "    schedule = Schedule()\n",
    "    grocery_store = GroceryStore(arrival_rate, service_rate)\n",
    "    grocery_store.run(schedule)\n",
    "    while schedule.next_event_time() < run_until:\n",
    "        schedule.run_next_event()\n",
    "    return grocery_store"
   ]
  },
  {
   "cell_type": "code",
   "execution_count": 22,
   "metadata": {},
   "outputs": [
    {
     "name": "stdout",
     "output_type": "stream",
     "text": [
      "There are 23 people in the queue\n"
     ]
    }
   ],
   "source": [
    "# Run a short test\n",
    "\n",
    "grocery_store = run_simulation(arrival_rate=1.2, service_rate=1, run_until=100)\n",
    "print(f'There are {grocery_store.queue.people_in_queue} people in the queue')"
   ]
  },
  {
   "cell_type": "markdown",
   "metadata": {},
   "source": [
    "## Simulations ## "
   ]
  },
  {
   "cell_type": "code",
   "execution_count": 55,
   "metadata": {},
   "outputs": [],
   "source": [
    "## 100 Simulations ###\n",
    "\n",
    "sims = 100\n",
    "\n",
    "# Parameters \n",
    "a_rate = 0.8\n",
    "s_rate = 1\n",
    "\n",
    "queue_count = []\n",
    "for i in range(sims):\n",
    "    grocery_store = run_simulation(arrival_rate = a_rate, service_rate =s_rate, run_until = 100)\n",
    "    queue_count.append(grocery_store.queue.people_in_queue)\n",
    "    \n"
   ]
  },
  {
   "cell_type": "code",
   "execution_count": 73,
   "metadata": {},
   "outputs": [
    {
     "data": {
      "image/png": "[encoded data removed]",
      "text/plain": [
       "<Figure size 432x288 with 1 Axes>"
      ]
     },
     "metadata": {},
     "output_type": "display_data"
    },
    {
     "name": "stdout",
     "output_type": "stream",
     "text": [
      "Average Queue Length: 1.48\n",
      "St. dev.: 2.243\n",
      "Median: 0.0\n",
      "95% Confidence Interval of true mean: [1.038, 1.922]\n"
     ]
    }
   ],
   "source": [
    "plt.hist(queue_count, density = True, edgecolor = 'white')\n",
    "plt.title('Simulation results at n = 100')\n",
    "plt.xlabel('Queue length')\n",
    "plt.show()\n",
    "\n",
    "print(\"Average Queue Length:\",np.mean(queue_count))\n",
    "print(\"St. dev.:\", np.round(np.std(queue_count),3))\n",
    "print(\"Median:\", np.median(queue_count))\n",
    "\n",
    "# Calculate confidence interval \n",
    "def conf_int(data):\n",
    "    m = np.mean(data)\n",
    "    t = sts.sem(data)\n",
    "    return [np.round(m - 1.96*t,3), np.round(m + 1.96*t,3)]\n",
    "\n",
    "print(\"95% Confidence Interval of true mean:\", conf_int(queue_count))\n"
   ]
  },
  {
   "cell_type": "code",
   "execution_count": 74,
   "metadata": {},
   "outputs": [],
   "source": [
    "### 1000 Simulations ###\n",
    "\n",
    "sims = 1000\n",
    "\n",
    "queue_count_2 = []\n",
    "for i in range(sims):\n",
    "    grocery_store = run_simulation(arrival_rate = a_rate, service_rate =s_rate, run_until = 100)\n",
    "    queue_count_2.append(grocery_store.queue.people_in_queue)\n",
    "    "
   ]
  },
  {
   "cell_type": "code",
   "execution_count": 121,
   "metadata": {},
   "outputs": [
    {
     "data": {
      "image/png": "[encoded data removed]",
      "text/plain": [
       "<Figure size 432x288 with 1 Axes>"
      ]
     },
     "metadata": {},
     "output_type": "display_data"
    },
    {
     "name": "stdout",
     "output_type": "stream",
     "text": [
      "Average Queue Length: 1.654\n",
      "St. dev.: 2.199\n",
      "Median: 1.0\n",
      "95% Confidence Interval of true mean: [1.518, 1.79]\n"
     ]
    }
   ],
   "source": [
    "plt.hist(queue_count_2, density = True, edgecolor = 'white', bins = 15)\n",
    "plt.title('Simulation results at n = 1000')\n",
    "plt.xlabel('Queue length')\n",
    "plt.show()\n",
    "\n",
    "print(\"Average Queue Length:\",np.mean(queue_count_2))\n",
    "print(\"St. dev.:\", np.round(np.std(queue_count_2),3))\n",
    "print(\"Median:\", np.median(queue_count_2))\n",
    "print(\"95% Confidence Interval of true mean:\", conf_int(queue_count_2))\n"
   ]
  },
  {
   "cell_type": "markdown",
   "metadata": {},
   "source": [
    "## Comparison between Graphs ##\n",
    "\n",
    "There are multiple differences that we can notice between the difference in sample sizes. With n = 100, we see a sharper exponential decline compared to a smoother decrease with n = 1000. We can also see a bigger range for the confidence interval for smaller sample and a smaller range of the confidence interval for the bigger sample (n = 1000). Therefore, we can say that as we increase our simulations, we can have more stable results. By stable, I mean to have results that have smoother curves and smaller confidence interval. However, these intuitions are only limited to these two experiments and may change as we conduct more. "
   ]
  },
  {
   "cell_type": "markdown",
   "metadata": {},
   "source": [
    "## Simulations with Varying Arrival Rates ##\n",
    "\n",
    "Note. The confidence intervals may seem similar because the range of the x-values are also expanding. "
   ]
  },
  {
   "cell_type": "code",
   "execution_count": 104,
   "metadata": {},
   "outputs": [],
   "source": [
    "# Create a function to create plots and compute mean and confidence interval \n",
    "\n",
    "def queue_modeling(a_rate, s_rate, simulations):\n",
    "\n",
    "    # Acquire data\n",
    "    queue_count = []\n",
    "    for i in range(simulations):\n",
    "        grocery_store = run_simulation(arrival_rate = a_rate, service_rate =s_rate, run_until = 100)\n",
    "        queue_count.append(grocery_store.queue.people_in_queue)\n",
    "        \n",
    "    \n",
    "    # Compute statistics \n",
    "    m = np.mean(queue_count)\n",
    "    std = np.std(queue_count)\n",
    "    conf = conf_int(queue_count)\n",
    "        \n",
    "    plt.hist(queue_count, density = True, edgecolor = 'white', bins = 15)\n",
    "    plt.title('Simulation results at n = 1000')\n",
    "    plt.axvline(conf[0], color = 'red', linestyle = '--', label = 'Confidence Interval')\n",
    "    plt.axvline(conf[1], color = 'red', linestyle = '--')\n",
    "    plt.xlabel('Queue length')\n",
    "    plt.legend()\n",
    "    plt.show()\n",
    "\n",
    "    print(\"Number of simulations\", len(queue_count))\n",
    "    print(\"Average Queue Length:\",m)\n",
    "    print(\"St. dev.:\", np.round(std, 3))\n",
    "    print(\"95% Confidence Interval of true mean:\", conf)\n"
   ]
  },
  {
   "cell_type": "markdown",
   "metadata": {},
   "source": [
    "#### When arrival rate = 0.6 ####"
   ]
  },
  {
   "cell_type": "code",
   "execution_count": 117,
   "metadata": {},
   "outputs": [
    {
     "data": {
      "image/png": "[encoded data removed]",
      "text/plain": [
       "<Figure size 432x288 with 1 Axes>"
      ]
     },
     "metadata": {},
     "output_type": "display_data"
    },
    {
     "name": "stdout",
     "output_type": "stream",
     "text": [
      "Number of simulations 1000\n",
      "Average Queue Length: 0.447\n",
      "St. dev.: 0.87\n",
      "95% Confidence Interval of true mean: [0.393, 0.501]\n"
     ]
    }
   ],
   "source": [
    "queue_modeling(0.6, 1, 1000)"
   ]
  },
  {
   "cell_type": "markdown",
   "metadata": {},
   "source": [
    "#### When arrival rate = 0.7 ####"
   ]
  },
  {
   "cell_type": "code",
   "execution_count": 118,
   "metadata": {},
   "outputs": [
    {
     "data": {
      "image/png": "[encoded data removed]",
      "text/plain": [
       "<Figure size 432x288 with 1 Axes>"
      ]
     },
     "metadata": {},
     "output_type": "display_data"
    },
    {
     "name": "stdout",
     "output_type": "stream",
     "text": [
      "Number of simulations 1000\n",
      "Average Queue Length: 0.854\n",
      "St. dev.: 1.429\n",
      "95% Confidence Interval of true mean: [0.765, 0.943]\n"
     ]
    }
   ],
   "source": [
    "queue_modeling(0.7, 1, 1000)"
   ]
  },
  {
   "cell_type": "markdown",
   "metadata": {},
   "source": [
    "#### When arrival rate = 0.8 ### "
   ]
  },
  {
   "cell_type": "code",
   "execution_count": 106,
   "metadata": {},
   "outputs": [
    {
     "data": {
      "image/png": "[encoded data removed]",
      "text/plain": [
       "<Figure size 432x288 with 1 Axes>"
      ]
     },
     "metadata": {},
     "output_type": "display_data"
    },
    {
     "name": "stdout",
     "output_type": "stream",
     "text": [
      "Number of simulations 1000\n",
      "Average Queue Length: 1.662\n",
      "St. dev.: 2.344\n",
      "95% Confidence Interval of true mean: [1.517, 1.807]\n"
     ]
    }
   ],
   "source": [
    "queue_modeling(0.8, 1, 1000)"
   ]
  },
  {
   "cell_type": "markdown",
   "metadata": {},
   "source": [
    "#### When arrival rate = 0.9 ### "
   ]
  },
  {
   "cell_type": "code",
   "execution_count": 107,
   "metadata": {},
   "outputs": [
    {
     "data": {
      "image/png": "[encoded data removed]",
      "text/plain": [
       "<Figure size 432x288 with 1 Axes>"
      ]
     },
     "metadata": {},
     "output_type": "display_data"
    },
    {
     "name": "stdout",
     "output_type": "stream",
     "text": [
      "Number of simulations 1000\n",
      "Average Queue Length: 3.414\n",
      "St. dev.: 3.815\n",
      "95% Confidence Interval of true mean: [3.177, 3.651]\n"
     ]
    }
   ],
   "source": [
    "queue_modeling(0.9, 1, 1000)"
   ]
  },
  {
   "cell_type": "markdown",
   "metadata": {},
   "source": [
    "#### When arrival rate = 1 ### "
   ]
  },
  {
   "cell_type": "code",
   "execution_count": 112,
   "metadata": {},
   "outputs": [
    {
     "data": {
      "image/png": "[encoded data removed]",
      "text/plain": [
       "<Figure size 432x288 with 1 Axes>"
      ]
     },
     "metadata": {},
     "output_type": "display_data"
    },
    {
     "name": "stdout",
     "output_type": "stream",
     "text": [
      "Number of simulations 1000\n",
      "Average Queue Length: 7.363\n",
      "St. dev.: 6.227\n",
      "95% Confidence Interval of true mean: [6.977, 7.749]\n"
     ]
    }
   ],
   "source": [
    "queue_modeling(1, 1, 1000)"
   ]
  },
  {
   "cell_type": "markdown",
   "metadata": {},
   "source": [
    "### Plotting Error Bar ### \n",
    "\n",
    "For this part, we acquire the average mean of the different experiments of varying arrival length. We also acquire the standard deviation of each part and used it as our range for our error plot. We did not experiment with arrival rates higher than service rate because it is impractical to have arrival rates higher than our service rate. "
   ]
  },
  {
   "cell_type": "code",
   "execution_count": 123,
   "metadata": {},
   "outputs": [
    {
     "data": {
      "image/png": "[encoded data removed]",
      "text/plain": [
       "<Figure size 432x288 with 1 Axes>"
      ]
     },
     "metadata": {},
     "output_type": "display_data"
    }
   ],
   "source": [
    "# Create function to acquire standard error \n",
    "\n",
    "queue_arrival_rates = [0.6, 0.7, 0.8, 0.9, 1]\n",
    "queue_length_ave = [0.447, 0.854, 1.662, 3.414, 7.363]\n",
    "queue_length_std = [0.87, 1.429, 2.344, 3.815, 6.227]\n",
    "\n",
    "plt.errorbar(queue_arrival_rates, queue_length_ave, queue_length_std,\n",
    "            color = 'black', marker = 'o', capsize = 5, linestyle = '--', linewidth = 1)\n",
    "plt.title(\"Error Bar of the Simulations with Varying Arrival Rates\")\n",
    "plt.xlabel(\"Arrival Rate\")\n",
    "plt.ylabel(\"Average queue length\")\n",
    "plt.show()\n"
   ]
  },
  {
   "cell_type": "markdown",
   "metadata": {},
   "source": [
    "#### Analysis ####\n",
    "\n",
    "In our new experiment, we notice that as our arrival rate gets closer to our service rate, the spread or standard deviation of the data increases. We can also see this in our confidence interval with increasing range. Based on our error plot, we also see the same trend of error spread as we increase the arrival rate. In our error plot, we can determine that the average queue length becomes bigger than 5 with arrival rates between 0.9 and 1. "
   ]
  },
  {
   "cell_type": "markdown",
   "metadata": {},
   "source": [
    "## Reflection ##  \n",
    "\n",
    "**#EmpiricalAnalysis**: I was able to generate statistical results that are needed by the prompt. These are means, standard deviations, confidence intervals. I used proper python implementations for how to acquire these values. I also added justifications and applications of the statistical values in the graphs that were generated. Next, I also performed analysis and used the parameters acquired to support my claims.\n",
    "\n",
    "**#Professionalism**: The format of the notebook was easy to follow. The graphs were cleanly generated with proper labels and captions. The choice of colors, adding of legeds, and style of graphs were also properly chosen to represent the figures to be easily understood. "
   ]
  },
  {
   "cell_type": "code",
   "execution_count": null,
   "metadata": {},
   "outputs": [],
   "source": []
  }
 ],
 "metadata": {
  "kernelspec": {
   "display_name": "Python 3",
   "language": "python",
   "name": "python3"
  },
  "language_info": {
   "codemirror_mode": {
    "name": "ipython",
    "version": 3
   },
   "file_extension": ".py",
   "mimetype": "text/x-python",
   "name": "python",
   "nbconvert_exporter": "python",
   "pygments_lexer": "ipython3",
   "version": "3.6.8"
  }
 },
 "nbformat": 4,
 "nbformat_minor": 2
}
