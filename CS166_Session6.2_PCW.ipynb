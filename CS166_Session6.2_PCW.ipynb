{
 "cells": [
  {
   "cell_type": "markdown",
   "metadata": {},
   "source": [
    "# CS166 Session 6.2 PCW \n",
    "\n",
    "## Excercise 14 "
   ]
  },
  {
   "cell_type": "code",
   "execution_count": 88,
   "metadata": {},
   "outputs": [],
   "source": [
    "import scipy \n",
    "import scipy.stats as sts \n",
    "import matplotlib.pyplot as plt \n",
    "import numpy as np\n",
    "import random as rand"
   ]
  },
  {
   "cell_type": "code",
   "execution_count": 109,
   "metadata": {},
   "outputs": [
    {
     "data": {
      "image/png": "[encoded data removed]",
      "text/plain": [
       "<Figure size 432x288 with 1 Axes>"
      ]
     },
     "metadata": {
      "needs_background": "light"
     },
     "output_type": "display_data"
    }
   ],
   "source": [
    "lambda_ = 10 # bus arrives every 10 mins \n",
    "\n",
    "# scipy.random.exponential(1/lambda_)\n",
    "\n",
    "waiting_times = sts.expon(lambda_)\n",
    "\n",
    "waiting_times_samples = waiting_times.rvs(size = 1000)\n",
    "\n",
    "plt.hist(waiting_times_samples, density = True, bins = 30, edgecolor = 'white')\n",
    "plt.show()"
   ]
  },
  {
   "cell_type": "code",
   "execution_count": 116,
   "metadata": {},
   "outputs": [],
   "source": [
    "pass_wait_time = [] \n",
    "\n",
    "\n",
    "for i in range(1000):\n",
    "    pass_arrive = sts.uniform.rvs(0, lambda_)\n",
    "    bus_arrive = waiting_times.rvs()\n",
    "    \n",
    "    if pass_arrive > bus_arrive:\n",
    "        pass_wait_time.append(pass_arrive - bus_arrive)\n",
    "    else: \n",
    "        bus_arrive += bus_arrive\n",
    "        pass_wait_time.append(pass_arrive - bus_arrive)\n",
    "        \n"
   ]
  },
  {
   "cell_type": "code",
   "execution_count": 117,
   "metadata": {},
   "outputs": [
    {
     "data": {
      "text/plain": [
       "(array([  1.,   3.,  11.,  17.,  87., 184., 209., 208., 172., 108.]),\n",
       " array([-32.01650175, -29.83860229, -27.66070284, -25.48280338,\n",
       "        -23.30490392, -21.12700447, -18.94910501, -16.77120556,\n",
       "        -14.5933061 , -12.41540665, -10.23750719]),\n",
       " <BarContainer object of 10 artists>)"
      ]
     },
     "execution_count": 117,
     "metadata": {},
     "output_type": "execute_result"
    },
    {
     "data": {
      "image/png": "[encoded data removed]",
      "text/plain": [
       "<Figure size 432x288 with 1 Axes>"
      ]
     },
     "metadata": {
      "needs_background": "light"
     },
     "output_type": "display_data"
    }
   ],
   "source": [
    "plt.hist(pass_wait_time)"
   ]
  },
  {
   "cell_type": "code",
   "execution_count": null,
   "metadata": {},
   "outputs": [],
   "source": []
  },
  {
   "cell_type": "markdown",
   "metadata": {},
   "source": [
    "## Excerices 24"
   ]
  },
  {
   "cell_type": "code",
   "execution_count": 4,
   "metadata": {},
   "outputs": [],
   "source": [
    "data = {\n",
    "    50: 0.00832,\n",
    "    51: 0.00911,\n",
    "    52: 0.00996,\n",
    "    53: 0.01089,\n",
    "    54: 0.01190,\n",
    "    55: 0.01300,\n",
    "    56: 0.01421,\n",
    "    57: 0.01554,\n",
    "    58: 0.01700,\n",
    "    59: 0.01859,\n",
    "    60: 0.02034,\n",
    "    61: 0.02224,\n",
    "    62: 0.02431,\n",
    "    63: 0.02657,\n",
    "    64: 0.02904,\n",
    "    65: 0.03175,\n",
    "    66: 0.03474,\n",
    "    67: 0.03804,\n",
    "    68: 0.04168,\n",
    "    69: 0.04561,\n",
    "    70: 0.04979,\n",
    "    71: 0.05415,\n",
    "    72: 0.05865,\n",
    "    73: 0.06326,\n",
    "    74: 0.06812,\n",
    "    75: 0.07337,\n",
    "    76: 0.07918,\n",
    "    77: 0.08570,\n",
    "    78: 0.09306,\n",
    "    79: 0.10119,\n",
    "    80: 0.10998,\n",
    "    81: 0.11935,\n",
    "    82: 0.12917,\n",
    "    83: 0.13938,\n",
    "    84: 0.15001,\n",
    "    85: 0.16114,\n",
    "    86: 0.17282,\n",
    "    87: 0.18513,\n",
    "    88: 0.19825,\n",
    "    89: 0.21246,\n",
    "    90: 0.22814,\n",
    "    91: 0.24577,\n",
    "    92: 0.26593,\n",
    "    93: 0.28930,\n",
    "    94: 0.31666,\n",
    "    95: 0.35124,\n",
    "    96: 0.40056,\n",
    "    97: 0.48842,\n",
    "    98: 0.66815,\n",
    "    99: 0.72000,\n",
    "    100: 0.76000,\n",
    "    101: 0.80000,\n",
    "    102: 0.85000,\n",
    "    103: 0.90000,\n",
    "    104: 0.96000,\n",
    "    105: 1.00000}"
   ]
  },
  {
   "cell_type": "code",
   "execution_count": 91,
   "metadata": {},
   "outputs": [],
   "source": [
    "principal = 150000\n",
    "invest_rate = 10000\n",
    "current_age = 50 \n",
    "\n",
    "params = [0.08, 0.02]\n",
    "interest_rate = sts.truncnorm( -params[0]/params[1], np.inf, loc = 0.08, scale = params[1])"
   ]
  },
  {
   "cell_type": "code",
   "execution_count": 90,
   "metadata": {},
   "outputs": [],
   "source": [
    "def p_death(current_age):\n",
    "    \n",
    "    if rand.random() < data[current_age]:\n",
    "        return True \n",
    "    else:\n",
    "        return False "
   ]
  },
  {
   "cell_type": "code",
   "execution_count": 92,
   "metadata": {},
   "outputs": [],
   "source": [
    "def Fannie(principal, invest_rate, current_age):\n",
    "    dead = False \n",
    "    \n",
    "    net_worth = principal \n",
    "    curr_age = current_age\n",
    "    \n",
    "    while dead == False:\n",
    "        \n",
    "        dead = p_death \n",
    "        \n",
    "        net_worth += net_worth * interest_rate.rvs()\n",
    "        \n",
    "        net_worth += invest_rate \n",
    "        \n",
    "    return net_worth - principal \n",
    "    \n"
   ]
  },
  {
   "cell_type": "code",
   "execution_count": 101,
   "metadata": {},
   "outputs": [
    {
     "data": {
      "image/png": "[encoded data removed]",
      "text/plain": [
       "<Figure size 432x288 with 1 Axes>"
      ]
     },
     "metadata": {
      "needs_background": "light"
     },
     "output_type": "display_data"
    }
   ],
   "source": [
    "tot_earnings = []\n",
    "\n",
    "for i in range(1000):\n",
    "    earnings = Fannie(principal, invest_rate, current_age)\n",
    "    tot_earnings.append(earnings)\n",
    "    \n",
    "plt.hist(tot_earnings, bins = 30, edgecolor = 'white', density = True)\n",
    "plt.title(\"Distribution of Fannie's total earnings over 1000 Simulations\")\n",
    "plt.xlabel('Net Worth ($)')\n",
    "plt.show()"
   ]
  },
  {
   "cell_type": "code",
   "execution_count": 110,
   "metadata": {},
   "outputs": [
    {
     "name": "stdout",
     "output_type": "stream",
     "text": [
      "22060.096083712342 3122.9512406649396\n"
     ]
    }
   ],
   "source": [
    "print(np.mean(tot_earnings), np.std(tot_earnings))"
   ]
  },
  {
   "cell_type": "code",
   "execution_count": null,
   "metadata": {},
   "outputs": [],
   "source": []
  }
 ],
 "metadata": {
  "kernelspec": {
   "display_name": "Python 3",
   "language": "python",
   "name": "python3"
  },
  "language_info": {
   "codemirror_mode": {
    "name": "ipython",
    "version": 3
   },
   "file_extension": ".py",
   "mimetype": "text/x-python",
   "name": "python",
   "nbconvert_exporter": "python",
   "pygments_lexer": "ipython3",
   "version": "3.8.5"
  }
 },
 "nbformat": 4,
 "nbformat_minor": 4
}
